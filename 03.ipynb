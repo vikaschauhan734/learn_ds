{
 "cells": [
  {
   "cell_type": "code",
   "execution_count": 1,
   "metadata": {},
   "outputs": [
    {
     "name": "stdout",
     "output_type": "stream",
     "text": [
      "--2022-12-12 17:49:25--  https://raw.githubusercontent.com/MicrosoftDocs/mslearn-introduction-to-machine-learning/main/graphing.py\n",
      "Resolving raw.githubusercontent.com (raw.githubusercontent.com)... 205.251.192.181, 205.251.194.84, 205.251.199.75, ...\n",
      "Connecting to raw.githubusercontent.com (raw.githubusercontent.com)|205.251.192.181|:443... failed: Connection timed out.\n",
      "Connecting to raw.githubusercontent.com (raw.githubusercontent.com)|205.251.194.84|:443... failed: Connection timed out.\n",
      "Connecting to raw.githubusercontent.com (raw.githubusercontent.com)|205.251.199.75|:443... failed: Connection timed out.\n",
      "Connecting to raw.githubusercontent.com (raw.githubusercontent.com)|205.251.197.131|:443... ^C\n",
      "--2022-12-12 17:57:13--  https://raw.githubusercontent.com/MicrosoftDocs/mslearn-introduction-to-machine-learning/main/microsoft_custom_linear_regressor.py\n",
      "Resolving raw.githubusercontent.com (raw.githubusercontent.com)... 185.199.108.133, 185.199.110.133, 185.199.111.133, ...\n",
      "Connecting to raw.githubusercontent.com (raw.githubusercontent.com)|185.199.108.133|:443... connected.\n",
      "HTTP request sent, awaiting response... 200 OK\n",
      "Length: 2167 (2.1K) [text/plain]\n",
      "Saving to: ‘microsoft_custom_linear_regressor.py’\n",
      "\n",
      "microsoft_custom_li 100%[===================>]   2.12K  --.-KB/s    in 0.002s  \n",
      "\n",
      "2022-12-12 17:57:13 (1.18 MB/s) - ‘microsoft_custom_linear_regressor.py’ saved [2167/2167]\n",
      "\n",
      "--2022-12-12 17:57:14--  https://raw.githubusercontent.com/MicrosoftDocs/mslearn-introduction-to-machine-learning/main/Data/seattleWeather_1948-2017.csv\n",
      "Resolving raw.githubusercontent.com (raw.githubusercontent.com)... 205.251.192.181, 205.251.194.84, 205.251.199.75, ...\n",
      "Connecting to raw.githubusercontent.com (raw.githubusercontent.com)|205.251.192.181|:443... "
     ]
    }
   ],
   "source": [
    "import pandas\n",
    "from datetime import datetime\n",
    "\n",
    "# Load a file that contains our weather data\n",
    "dataset = pandas.read_csv('seattleWeather_1948-2017.csv', parse_dates=['date'])\n",
    "\n",
    "# Convert the dates into numbers so we can use them in our models\n",
    "# We make a year column that can contain fractions. For example,\n",
    "# 1948.5 is halfway through the year 1948\n",
    "dataset[\"year\"] = [(d.year + d.timetuple().tm_yday / 365.25) for d in dataset.date]\n",
    "\n",
    "\n",
    "# For the sake of this exercise, let's look at February 1 for the following years:\n",
    "desired_dates = [\n",
    "    datetime(1950,2,1),\n",
    "    datetime(1960,2,1),\n",
    "    datetime(1970,2,1),\n",
    "    datetime(1980,2,1),\n",
    "    datetime(1990,2,1),\n",
    "    datetime(2000,2,1),\n",
    "    datetime(2010,2,1),\n",
    "    datetime(2017,2,1),\n",
    "]\n",
    "\n",
    "dataset = dataset[dataset.date.isin(desired_dates)].copy()\n",
    "\n",
    "# Print the dataset\n",
    "dataset\n"
   ]
  },
  {
   "cell_type": "code",
   "execution_count": null,
   "metadata": {},
   "outputs": [],
   "source": [
    "import numpy\n",
    "\n",
    "def sum_of_square_differences(estimate, actual):\n",
    "    # Note that with NumPy, to square each value we use **\n",
    "    return numpy.sum((estimate - actual)**2)\n",
    "\n",
    "def sum_of_absolute_differences(estimate, actual):\n",
    "    return numpy.sum(numpy.abs(estimate - actual))"
   ]
  },
  {
   "cell_type": "code",
   "execution_count": null,
   "metadata": {},
   "outputs": [],
   "source": [
    "actual_label = numpy.array([1, 3])\n",
    "model_estimate = numpy.array([2, 2])\n",
    "\n",
    "print(\"SSD:\", sum_of_square_differences(model_estimate, actual_label))\n",
    "print(\"SAD:\", sum_of_absolute_differences(model_estimate, actual_label))"
   ]
  },
  {
   "cell_type": "code",
   "execution_count": null,
   "metadata": {},
   "outputs": [],
   "source": [
    "actual_label = numpy.array([1, 3])\n",
    "model_estimate = numpy.array([1, 1])\n",
    "\n",
    "print(\"SSD:\", sum_of_square_differences(model_estimate, actual_label))\n",
    "print(\"SAD:\", sum_of_absolute_differences(model_estimate, actual_label))"
   ]
  },
  {
   "cell_type": "code",
   "execution_count": null,
   "metadata": {},
   "outputs": [],
   "source": [
    "from microsoft_custom_linear_regressor import MicrosoftCustomLinearRegressor\n",
    "import graphing\n",
    "\n",
    "# Create and fit the model\n",
    "# We use a custom object that we've hidden from this notebook, because\n",
    "# you don't need to understand its details. This fits a linear model\n",
    "# by using a provided cost function\n",
    "\n",
    "# Fit a model by using sum of square differences\n",
    "model = MicrosoftCustomLinearRegressor().fit(X = dataset.year, \n",
    "                                             y = dataset.min_temperature, \n",
    "                                             cost_function = sum_of_square_differences)\n",
    "\n",
    "# Graph the model\n",
    "graphing.scatter_2D(dataset, \n",
    "                    label_x=\"year\", \n",
    "                    label_y=\"min_temperature\", \n",
    "                    trendline=model.predict)\n"
   ]
  },
  {
   "cell_type": "code",
   "execution_count": null,
   "metadata": {},
   "outputs": [],
   "source": []
  }
 ],
 "metadata": {
  "kernelspec": {
   "display_name": "Python 3",
   "language": "python",
   "name": "python3"
  },
  "language_info": {
   "codemirror_mode": {
    "name": "ipython",
    "version": 3
   },
   "file_extension": ".py",
   "mimetype": "text/x-python",
   "name": "python",
   "nbconvert_exporter": "python",
   "pygments_lexer": "ipython3",
   "version": "3.10.6"
  },
  "orig_nbformat": 4,
  "vscode": {
   "interpreter": {
    "hash": "916dbcbb3f70747c44a77c7bcd40155683ae19c65e1c03b4aa3499c5328201f1"
   }
  }
 },
 "nbformat": 4,
 "nbformat_minor": 2
}
