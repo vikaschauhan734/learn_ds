{
  "cells": [
    {
      "cell_type": "markdown",
      "source": [
        "# Get Diabetes Predictions from a Designer Pipeline\n",
        "\n",
        "Modify the code in the cell below to use the ***ENDPOINT*** and ***PRIMARY_KEY*** for your **predict-diabetes** service. Then run the cell to submit new patient data and retrieve the predicted classification."
      ],
      "metadata": {}
    },
    {
      "cell_type": "code",
      "source": [
        "endpoint = 'YOUR_ENDPOINT' #Replace with your endpoint\n",
        "key = 'YOUR_KEY' #Replace with your key\n",
        "\n",
        "import urllib.request\n",
        "import json\n",
        "import os\n",
        "\n",
        "data = {\n",
        "    \"Inputs\": {\n",
        "        \"WebServiceInput0\":\n",
        "        [\n",
        "            {\n",
        "                    'PatientID': 1882185,\n",
        "                    'Pregnancies': 9,\n",
        "                    'PlasmaGlucose': 104,\n",
        "                    'DiastolicBloodPressure': 51,\n",
        "                    'TricepsThickness': 7,\n",
        "                    'SerumInsulin': 24,\n",
        "                    'BMI': 27.36983156,\n",
        "                    'DiabetesPedigree': 1.3504720469999998,\n",
        "                    'Age': 43,\n",
        "            },\n",
        "        ],\n",
        "    },\n",
        "    \"GlobalParameters\":  {\n",
        "    }\n",
        "}\n",
        "\n",
        "body = str.encode(json.dumps(data))\n",
        "\n",
        "\n",
        "headers = {'Content-Type':'application/json', 'Authorization':('Bearer '+ key)}\n",
        "\n",
        "req = urllib.request.Request(endpoint, body, headers)\n",
        "\n",
        "try:\n",
        "    response = urllib.request.urlopen(req)\n",
        "    result = response.read()\n",
        "    json_result = json.loads(result)\n",
        "    output = json_result[\"Results\"][\"WebServiceOutput0\"][0]\n",
        "    print('Patient: {}\\nPrediction: {}\\nProbability: {:.2f}'.format(output[\"PatientID\"],\n",
        "                                                            output[\"DiabetesPrediction\"],\n",
        "                                                            output[\"Probability\"],))\n",
        "except urllib.error.HTTPError as error:\n",
        "    print(\"The request failed with status code: \" + str(error.code))\n",
        "\n",
        "    # Print the headers to help debug\n",
        "    print(error.info())\n",
        "    print(json.loads(error.read().decode(\"utf8\", 'ignore')))"
      ],
      "outputs": [],
      "execution_count": null,
      "metadata": {
        "gather": {
          "logged": 1649365639129
        }
      }
    },
    {
      "cell_type": "code",
      "source": [],
      "outputs": [],
      "execution_count": null,
      "metadata": {
        "jupyter": {
          "source_hidden": false,
          "outputs_hidden": false
        },
        "nteract": {
          "transient": {
            "deleting": false
          }
        }
      }
    }
  ],
  "metadata": {
    "kernelspec": {
      "name": "python38-azureml",
      "language": "python",
      "display_name": "Python 3.8 - AzureML"
    },
    "language_info": {
      "name": "python",
      "version": "3.8.5",
      "mimetype": "text/x-python",
      "codemirror_mode": {
        "name": "ipython",
        "version": 3
      },
      "pygments_lexer": "ipython3",
      "nbconvert_exporter": "python",
      "file_extension": ".py"
    },
    "kernel_info": {
      "name": "python38-azureml"
    },
    "nteract": {
      "version": "nteract-front-end@1.0.0"
    }
  },
  "nbformat": 4,
  "nbformat_minor": 0
}